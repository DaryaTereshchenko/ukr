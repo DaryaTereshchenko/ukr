{
  "nbformat": 4,
  "nbformat_minor": 0,
  "metadata": {
    "colab": {
      "provenance": [],
      "authorship_tag": "ABX9TyOcIO3D6RBzQNXjfaLuBQlg",
      "include_colab_link": true
    },
    "kernelspec": {
      "name": "python3",
      "display_name": "Python 3"
    },
    "language_info": {
      "name": "python"
    }
  },
  "cells": [
    {
      "cell_type": "markdown",
      "metadata": {
        "id": "view-in-github",
        "colab_type": "text"
      },
      "source": [
        "<a href=\"https://colab.research.google.com/github/DaryaTereshchenko/ukr/blob/main/SM_LR.ipynb\" target=\"_parent\"><img src=\"https://colab.research.google.com/assets/colab-badge.svg\" alt=\"Open In Colab\"/></a>"
      ]
    },
    {
      "cell_type": "code",
      "execution_count": null,
      "metadata": {
        "id": "D4CKeT8OSf9U"
      },
      "outputs": [],
      "source": [
        "import pandas as pd\n",
        "import tensorflow as tf\n",
        "from keras.models import Model\n",
        "from keras.layers import Dense, Flatten, Input, Dropout\n",
        "from sklearn.preprocessing import OneHotEncoder\n",
        "from sklearn.preprocessing import StandardScaler\n",
        "from sklearn.model_selection import train_test_split"
      ]
    },
    {
      "cell_type": "code",
      "source": [
        "news_0 = pd.read_csv(\"https://github.com/DaryaTereshchenko/ukr/blob/main/data/news_0.csv\",  sep=\";\", decimal=\",\", \n",
        "                   skiprows=[1,2,3,4], low_memory=False, on_bad_lines='skip').sort_values(by=[\"CODE\"])\n",
        "news_0['class'] = 0\n",
        "\n",
        "news_1 = pd.read_csv(\"https://github.com/DaryaTereshchenko/ukr/blob/main/data/news_1.csv\",  sep=\";\", decimal=\",\", \n",
        "                   skiprows=[1,2,3,4], low_memory=False, on_bad_lines='skip').sort_values(by=[\"CODE\"])\n",
        "news_1['class'] = 1\n",
        "\n",
        "news_2 = pd.read_csv(https://github.com/DaryaTereshchenko/ukr/blob/main/data/news_2.csv,  sep=\";\", decimal=\",\", \n",
        "                   skiprows=[1,2,3,4], low_memory=False, on_bad_lines='skip').sort_values(by=[\"CODE\"])\n",
        "news_2['class'] = 2\n",
        "\n",
        "news_3 = pd.read_csv(\"https://github.com/DaryaTereshchenko/ukr/blob/main/data/news_3.csv\",  sep=\";\", decimal=\",\", \n",
        "                   skiprows=[1,2,3,4], low_memory=False, on_bad_lines='skip').sort_values(by=[\"CODE\"])\n",
        "news_3['class'] = 3"
      ],
      "metadata": {
        "id": "hXQgYK90TNGK"
      },
      "execution_count": null,
      "outputs": []
    },
    {
      "cell_type": "code",
      "source": [
        "frames = [news_0, news_1, news_2, news_3]\n",
        "data = pd.concat(frames).drop([\"CODE\"], axis=1)\n",
        "display(data)"
      ],
      "metadata": {
        "id": "QP0jWjC5TPlm"
      },
      "execution_count": null,
      "outputs": []
    },
    {
      "cell_type": "code",
      "source": [
        "X = data.drop([\"class\"], axis=1)\n",
        "y = data['class'].values"
      ],
      "metadata": {
        "id": "I3vGvEi1TRqf"
      },
      "execution_count": null,
      "outputs": []
    },
    {
      "cell_type": "code",
      "source": [
        "X_train, X_test, y_train, y_test = train_test_split(X, y, test_size=0.2, random_state=66)\n",
        "X_test, X_val, y_test, y_val = train_test_split(X_test, y_test, test_size=0.1, random_state=66)"
      ],
      "metadata": {
        "id": "ji9NC4yJTR2x"
      },
      "execution_count": null,
      "outputs": []
    },
    {
      "cell_type": "code",
      "source": [
        "# Normalize the data\n",
        "sc = StandardScaler()\n",
        "normed_train_data = pd.DataFrame(sc.fit_transform(X_train), columns = X.columns)\n",
        "normed_test_data = pd.DataFrame(sc.fit_transform(X_test), columns = X.columns)\n",
        "normed_val_data = pd.DataFrame(sc.fit_transform(X_val), columns = X.columns)"
      ],
      "metadata": {
        "id": "0fjA-MJzTR56"
      },
      "execution_count": null,
      "outputs": []
    },
    {
      "cell_type": "code",
      "source": [
        "# Encode the categories\n",
        "encoder = OneHotEncoder()\n",
        "encoder.fit(y_train.reshape(-1, 1))\n",
        "train_l = encoder.transform(y_train.reshape(-1, 1)).toarray()"
      ],
      "metadata": {
        "id": "KzVmHSpBTR8t"
      },
      "execution_count": null,
      "outputs": []
    },
    {
      "cell_type": "code",
      "source": [
        "encoder.fit(y_val.reshape(-1, 1))\n",
        "val_l = encoder.transform(y_val.reshape(-1, 1)).toarray()"
      ],
      "metadata": {
        "id": "T7IjxxY4Tcmm"
      },
      "execution_count": null,
      "outputs": []
    },
    {
      "cell_type": "code",
      "source": [
        "encoder.fit(y_test.reshape(-1, 1))\n",
        "test_l = encoder.transform(y_test.reshape(-1, 1)).toarray()"
      ],
      "metadata": {
        "id": "ybxYKm7KTcpQ"
      },
      "execution_count": null,
      "outputs": []
    },
    {
      "cell_type": "code",
      "source": [
        "def build_model():\n",
        "    x = Input(shape=(101), dtype=tf.float32)\n",
        "    \n",
        "    x = Flatten()(x)\n",
        "    output = Dense(4, activation='softmax')(x)\n",
        "\n",
        "    model = Model(inputs=x, outputs=output)\n",
        "\n",
        "    model.compile(optimizer=\"Adam\", loss=tf.keras.losses.BinaryCrossentropy(from_logits=False),\n",
        "    metrics=[\"accuracy\"])\n",
        "    return model"
      ],
      "metadata": {
        "id": "EiYBs54kThN9"
      },
      "execution_count": null,
      "outputs": []
    },
    {
      "cell_type": "code",
      "source": [
        "model = build_model()\n",
        "model.summary()"
      ],
      "metadata": {
        "id": "-3cer9qJThRy"
      },
      "execution_count": null,
      "outputs": []
    },
    {
      "cell_type": "code",
      "source": [
        "model.fit(normed_train_data, train_l, batch_size = 16, epochs = 10, verbose=1, validation_data=(normed_val_data, val_l))"
      ],
      "metadata": {
        "id": "1kJSXZJxTcrr"
      },
      "execution_count": null,
      "outputs": []
    },
    {
      "cell_type": "code",
      "source": [
        "y_pred = model.predict(normed_test_data).argmax(axis=1)\n",
        "encoder.fit(y_pred.reshape(-1, 1))\n",
        "y_pred_one_hot = encoder.transform(y_pred.reshape(-1, 1)).toarray()"
      ],
      "metadata": {
        "id": "LGRlCimWTm8U"
      },
      "execution_count": null,
      "outputs": []
    },
    {
      "cell_type": "code",
      "source": [
        "from sklearn.metrics import classification_report, accuracy_score\n",
        "print(\"=== Classification Report ===\")\n",
        "print(classification_report(test_l, y_pred_one_hot))\n",
        "print('\\n')\n",
        "print(\"=== Accuracy Score ===\")\n",
        "print(accuracy_score(test_l, y_pred_one_hot))"
      ],
      "metadata": {
        "id": "70XxBOzoTm-2"
      },
      "execution_count": null,
      "outputs": []
    },
    {
      "cell_type": "code",
      "source": [
        "y_test = encoder.inverse_transform(test_l).flatten()\n",
        "y_pred = encoder.inverse_transform(y_pred_one_hot).flatten()"
      ],
      "metadata": {
        "id": "WLmAWhdVTnBd"
      },
      "execution_count": null,
      "outputs": []
    },
    {
      "cell_type": "code",
      "source": [
        "def plot_cm(y_true, y_pred, normalize,\n",
        "    labels=None,\n",
        "    title=\"\",\n",
        "    cmap=plt.cm.Blues,\n",
        "):\n",
        "    cm = confusion_matrix(y_true, y_pred, normalize=normalize)\n",
        "    disp = ConfusionMatrixDisplay(confusion_matrix=cm, display_labels=labels)\n",
        "    disp.plot(cmap=cmap)\n",
        "    plt.title(title)\n",
        "    plt.show()\n",
        "plot_cm(y_test, y_pred, \"true\")"
      ],
      "metadata": {
        "id": "2q5Q_bP5Tvjr"
      },
      "execution_count": null,
      "outputs": []
    },
    {
      "cell_type": "code",
      "source": [],
      "metadata": {
        "id": "s8odRiZaTvmE"
      },
      "execution_count": null,
      "outputs": []
    },
    {
      "cell_type": "code",
      "source": [],
      "metadata": {
        "id": "my07hTIATvoL"
      },
      "execution_count": null,
      "outputs": []
    }
  ]
}