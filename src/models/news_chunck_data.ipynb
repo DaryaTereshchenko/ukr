{
 "cells": [
  {
   "cell_type": "code",
   "execution_count": 1,
   "metadata": {},
   "outputs": [
    {
     "ename": "ModuleNotFoundError",
     "evalue": "No module named 'src'",
     "output_type": "error",
     "traceback": [
      "\u001b[1;31m---------------------------------------------------------------------------\u001b[0m",
      "\u001b[1;31mModuleNotFoundError\u001b[0m                       Traceback (most recent call last)",
      "\u001b[1;32mc:\\Users\\darias\\Desktop\\ukrmodel\\src\\models\\news_chunck_data.ipynb Cell 1\u001b[0m in \u001b[0;36m<cell line: 7>\u001b[1;34m()\u001b[0m\n\u001b[0;32m      <a href='vscode-notebook-cell:/c%3A/Users/darias/Desktop/ukrmodel/src/models/news_chunck_data.ipynb#W0sZmlsZQ%3D%3D?line=4'>5</a>\u001b[0m \u001b[39mimport\u001b[39;00m \u001b[39mre\u001b[39;00m\n\u001b[0;32m      <a href='vscode-notebook-cell:/c%3A/Users/darias/Desktop/ukrmodel/src/models/news_chunck_data.ipynb#W0sZmlsZQ%3D%3D?line=5'>6</a>\u001b[0m \u001b[39m# import os\u001b[39;00m\n\u001b[1;32m----> <a href='vscode-notebook-cell:/c%3A/Users/darias/Desktop/ukrmodel/src/models/news_chunck_data.ipynb#W0sZmlsZQ%3D%3D?line=6'>7</a>\u001b[0m \u001b[39mfrom\u001b[39;00m \u001b[39msrc\u001b[39;00m\u001b[39m.\u001b[39;00m\u001b[39mpreprocessing\u001b[39;00m \u001b[39mimport\u001b[39;00m clean_text\n",
      "\u001b[1;31mModuleNotFoundError\u001b[0m: No module named 'src'"
     ]
    }
   ],
   "source": [
    "import pandas as pd\n",
    "import numpy as np\n",
    "import unicodedata\n",
    "import tokenize_uk\n",
    "import re\n",
    "# import os\n"
   ]
  },
  {
   "cell_type": "code",
   "execution_count": 3,
   "metadata": {},
   "outputs": [],
   "source": [
    "labels = pd.read_csv(r\"C:\\Users\\darias\\Desktop\\UKR-MODELS\\src\\data\\kaggle_news\\train_large.csv\", low_memory=False, on_bad_lines='skip').sort_values(by=[\"source\"])"
   ]
  },
  {
   "cell_type": "code",
   "execution_count": 4,
   "metadata": {},
   "outputs": [],
   "source": [
    "labels_0 = labels[labels[\"source\"] == 0]\n",
    "labels_1 = labels[labels[\"source\"] == 1]\n",
    "labels_2 = labels[labels[\"source\"] == 2]\n",
    "labels_3 = labels[labels[\"source\"] == 3]\n",
    "labels_4 = labels[labels[\"source\"] == 4]\n",
    "labels_5 = labels[labels[\"source\"] == 5]\n",
    "labels_6 = labels[labels[\"source\"] == 6]"
   ]
  },
  {
   "cell_type": "code",
   "execution_count": 5,
   "metadata": {},
   "outputs": [],
   "source": [
    "def clean_text(line):\n",
    "    replaced = re.sub('\\n', '', line)\n",
    "    right_quote = unicodedata.lookup('RIGHT DOUBLE QUOTATION MARK')\n",
    "    left_quote = unicodedata.lookup('LEFT DOUBLE QUOTATION MARK')\n",
    "    normalized = replaced.replace(right_quote, '\\\"').replace(left_quote, '\\\"')\n",
    "    tokenized = ' '.join(tokenize_uk.tokenize_uk.tokenize_words(normalized))\n",
    "    return tokenized"
   ]
  },
  {
   "cell_type": "code",
   "execution_count": 6,
   "metadata": {},
   "outputs": [],
   "source": [
    "def cut_data(data):\n",
    "    processed_texts = []\n",
    "    for i in data:\n",
    "        t = []\n",
    "        line = clean_text(i)\n",
    "        t.append(line)\n",
    "        processed_texts.append(t)\n",
    "    return processed_texts"
   ]
  },
  {
   "cell_type": "code",
   "execution_count": 7,
   "metadata": {},
   "outputs": [],
   "source": [
    "df0 = cut_data(labels_0[\"text\"])\n",
    "df1 = cut_data(labels_1[\"text\"])\n",
    "df2 = cut_data(labels_2[\"text\"])\n",
    "df3 = cut_data(labels_3[\"text\"])\n",
    "df4 = cut_data(labels_4[\"text\"])\n",
    "df5 = cut_data(labels_5[\"text\"])\n",
    "df6 = cut_data(labels_6[\"text\"])"
   ]
  },
  {
   "cell_type": "code",
   "execution_count": 12,
   "metadata": {},
   "outputs": [],
   "source": [
    "for text in enumerate(df6):\n",
    "    with open(r\"C:\\Users\\darias\\Desktop\\news_kaggle\\news6\\\\\" + str(text[0]) + \".txt\", \"w\", encoding=\"utf-8\") as f:\n",
    "        f.write(\"\".join(text[1]))\n",
    "        f.close"
   ]
  },
  {
   "cell_type": "code",
   "execution_count": null,
   "metadata": {},
   "outputs": [],
   "source": []
  }
 ],
 "metadata": {
  "kernelspec": {
   "display_name": "base",
   "language": "python",
   "name": "python3"
  },
  "language_info": {
   "codemirror_mode": {
    "name": "ipython",
    "version": 3
   },
   "file_extension": ".py",
   "mimetype": "text/x-python",
   "name": "python",
   "nbconvert_exporter": "python",
   "pygments_lexer": "ipython3",
   "version": "3.9.12"
  },
  "orig_nbformat": 4,
  "vscode": {
   "interpreter": {
    "hash": "b0a2faa82db20f947920d9ade35461cfd3d45cac6510ce168f7e2b5afcc8f08a"
   }
  }
 },
 "nbformat": 4,
 "nbformat_minor": 2
}
