{
  "nbformat": 4,
  "nbformat_minor": 0,
  "metadata": {
    "colab": {
      "provenance": [],
      "machine_shape": "hm",
      "mount_file_id": "1zP0NwZfQG6lM1s1zIEMjPUGETV09MJVK",
      "authorship_tag": "ABX9TyPWPKQEYhENbASsacMCiKyD",
      "include_colab_link": true
    },
    "kernelspec": {
      "name": "python3",
      "display_name": "Python 3"
    },
    "language_info": {
      "name": "python"
    },
    "accelerator": "GPU",
    "gpuClass": "premium"
  },
  "cells": [
    {
      "cell_type": "markdown",
      "metadata": {
        "id": "view-in-github",
        "colab_type": "text"
      },
      "source": [
        "<a href=\"https://colab.research.google.com/github/DaryaTereshchenko/ukr/blob/main/GloVe_SM.ipynb\" target=\"_parent\"><img src=\"https://colab.research.google.com/assets/colab-badge.svg\" alt=\"Open In Colab\"/></a>"
      ]
    },
    {
      "cell_type": "code",
      "execution_count": null,
      "metadata": {
        "id": "vFY9CcNzmuNt"
      },
      "outputs": [],
      "source": [
        "from keras.utils import to_categorical\n",
        "import tensorflow as tf\n",
        "from keras.models import Model\n",
        "from keras.layers import Dense, Flatten, Input, Dropout, Embedding, BatchNormalization\n",
        "from sklearn.model_selection import train_test_split"
      ]
    },
    {
      "cell_type": "code",
      "source": [
        "import pickle\n",
        "import pandas as pd\n",
        "import numpy as np"
      ],
      "metadata": {
        "id": "Gl67hy69neuG"
      },
      "execution_count": null,
      "outputs": []
    },
    {
      "cell_type": "code",
      "source": [
        "filename = \"/content/drive/MyDrive/embraw.pickle\"\n",
        "with open(filename, 'rb') as f:\n",
        "    classification_dict = pickle.load(f)"
      ],
      "metadata": {
        "id": "iY9BvbMwnkAv"
      },
      "execution_count": null,
      "outputs": []
    },
    {
      "cell_type": "code",
      "source": [
        "df = pd.DataFrame(classification_dict)"
      ],
      "metadata": {
        "id": "yO-vqovhoLcB"
      },
      "execution_count": null,
      "outputs": []
    },
    {
      "cell_type": "code",
      "source": [
        "df_glove = df.drop([\"source\"], axis = 1)"
      ],
      "metadata": {
        "id": "tgTRsM9-o029"
      },
      "execution_count": null,
      "outputs": []
    },
    {
      "cell_type": "code",
      "source": [
        "news_0 = pd.read_csv('news_0.csv',  sep=\";\", decimal=\",\", \n",
        "                   skiprows=[1,2,3,4], low_memory=False, on_bad_lines='skip').sort_values(by=[\"CODE\"])\n",
        "news_0['source'] = 0\n",
        "\n",
        "news_1 = pd.read_csv('news_1.csv',  sep=\";\", decimal=\",\", \n",
        "                   skiprows=[1,2,3,4], low_memory=False, on_bad_lines='skip').sort_values(by=[\"CODE\"])\n",
        "news_1['source'] = 1\n",
        "\n",
        "news_2 = pd.read_csv('news_2.csv',  sep=\";\", decimal=\",\", \n",
        "                   skiprows=[1,2,3,4], low_memory=False, on_bad_lines='skip').sort_values(by=[\"CODE\"])\n",
        "news_2['source'] = 2\n",
        "\n",
        "news_3 = pd.read_csv('news_3.csv',  sep=\";\", decimal=\",\", \n",
        "                   skiprows=[1,2,3,4], low_memory=False, on_bad_lines='skip').sort_values(by=[\"CODE\"])\n",
        "news_3['source'] = 3\n",
        "\n"
      ],
      "metadata": {
        "id": "mT8hF6RznnWD"
      },
      "execution_count": null,
      "outputs": []
    },
    {
      "cell_type": "code",
      "source": [
        "frames = [news_0, news_1, news_2, news_3]\n",
        "data = pd.concat(frames).drop([\"CODE\"], axis=1)"
      ],
      "metadata": {
        "id": "4sQ0Sjn7yFoY"
      },
      "execution_count": null,
      "outputs": []
    },
    {
      "cell_type": "code",
      "source": [
        "fs = [df_glove.reset_index(drop=True), data.reset_index(drop=True)]"
      ],
      "metadata": {
        "id": "9JbOcK-Htm1l"
      },
      "execution_count": null,
      "outputs": []
    },
    {
      "cell_type": "code",
      "source": [
        "dfinal = pd.concat(fs, ignore_index=True, axis=1)"
      ],
      "metadata": {
        "id": "Y4OuhDcow2MY"
      },
      "execution_count": null,
      "outputs": []
    },
    {
      "cell_type": "code",
      "source": [
        "X = dfinal.dropna(axis=0)"
      ],
      "metadata": {
        "id": "wuJkr7jXxlgj"
      },
      "execution_count": null,
      "outputs": []
    },
    {
      "cell_type": "code",
      "source": [
        "y = np.asarray(X.iloc[:, -1:], dtype=\"int32\")"
      ],
      "metadata": {
        "id": "9nvAkCbC0UFC"
      },
      "execution_count": null,
      "outputs": []
    },
    {
      "cell_type": "code",
      "source": [
        "X_data = X.drop(X.columns[-1], axis=1)"
      ],
      "metadata": {
        "id": "s9Xf1XrX1FKS"
      },
      "execution_count": null,
      "outputs": []
    },
    {
      "cell_type": "code",
      "source": [
        "X_train, X_test, y_train, y_test = train_test_split(X_data, y, test_size=0.2, random_state=66)\n",
        "X_test, X_val, y_test, y_val = train_test_split(X_test, y_test, test_size=0.1, random_state=66)"
      ],
      "metadata": {
        "id": "5S3LprHvy-H_"
      },
      "execution_count": null,
      "outputs": []
    },
    {
      "cell_type": "code",
      "source": [
        "X_train.shape"
      ],
      "metadata": {
        "colab": {
          "base_uri": "https://localhost:8080/"
        },
        "id": "a8DEFgjG2RxU",
        "outputId": "45001f7d-b9b1-4e9e-cd1c-e67069290e4e"
      },
      "execution_count": null,
      "outputs": [
        {
          "output_type": "execute_result",
          "data": {
            "text/plain": [
              "(20540, 45101)"
            ]
          },
          "metadata": {},
          "execution_count": 29
        }
      ]
    },
    {
      "cell_type": "code",
      "source": [
        "# Encode the categories\n",
        "y_train = to_categorical(np.asarray(y_train), dtype =\"uint8\")\n",
        "y_test = to_categorical(np.asarray(y_test), dtype =\"uint8\")\n",
        "y_val = to_categorical(np.asarray(y_val), dtype =\"uint8\")"
      ],
      "metadata": {
        "id": "FWFGLUH51tD-"
      },
      "execution_count": null,
      "outputs": []
    },
    {
      "cell_type": "code",
      "source": [
        "def build_model():\n",
        "    i = Input(shape=(45101), dtype=tf.float32)\n",
        "    output = Dense(4, activation='softmax')(i)\n",
        "\n",
        "    model = Model(inputs=i, outputs=output)\n",
        "\n",
        "    model.compile(optimizer=\"Adam\", loss=tf.keras.losses.BinaryCrossentropy(from_logits=False),\n",
        "    metrics=[\"accuracy\"])\n",
        "    return model"
      ],
      "metadata": {
        "id": "PfXOJoHo13Tg"
      },
      "execution_count": null,
      "outputs": []
    },
    {
      "cell_type": "code",
      "source": [
        "model = build_model()\n",
        "model.summary()"
      ],
      "metadata": {
        "id": "Rvi5vuOk2Bew"
      },
      "execution_count": null,
      "outputs": []
    },
    {
      "cell_type": "code",
      "source": [
        "model.fit(X_train, y_train, batch_size = 32, epochs = 5, verbose=1, validation_data=(X_val, y_val))"
      ],
      "metadata": {
        "id": "LxzVJziW2FqQ"
      },
      "execution_count": null,
      "outputs": []
    },
    {
      "cell_type": "code",
      "source": [
        "y_pred = model.predict(X_test).argmax(axis=1)\n",
        "y_pred_one_hot = to_categorical(np.asarray(y_pred), dtype =\"uint8\")"
      ],
      "metadata": {
        "colab": {
          "base_uri": "https://localhost:8080/"
        },
        "id": "BfWhIBtr2bgN",
        "outputId": "f455ee72-3014-4123-c4f4-1038bfeb0c5a"
      },
      "execution_count": null,
      "outputs": [
        {
          "output_type": "stream",
          "name": "stdout",
          "text": [
            "145/145 [==============================] - 1s 4ms/step\n"
          ]
        }
      ]
    },
    {
      "cell_type": "code",
      "source": [
        "from sklearn.metrics import classification_report, accuracy_score\n",
        "print(\"=== Classification Report ===\")\n",
        "print(classification_report(y_test, y_pred_one_hot))\n",
        "print('\\n')\n",
        "print(\"=== Accuracy Score ===\")\n",
        "print(accuracy_score(y_test, y_pred_one_hot))\n"
      ],
      "metadata": {
        "id": "mgbPgs9m34pC"
      },
      "execution_count": null,
      "outputs": []
    },
    {
      "cell_type": "code",
      "source": [
        "y_test = np.asarray(y_test).argmax(axis=1)"
      ],
      "metadata": {
        "id": "pXOux3tG3-3R"
      },
      "execution_count": null,
      "outputs": []
    },
    {
      "cell_type": "code",
      "source": [
        "from sklearn.ensemble import RandomForestClassifier\n",
        "# creating a RF classifier \n",
        "clf = RandomForestClassifier(n_estimators = 200, n_jobs=-1, random_state=0)\n",
        "\n",
        "# Training the model on the training dataset\n",
        "# fir function is used to train the model using the training sets as parameters\n",
        "clf.fit(X_train, y_train)\n",
        "\n",
        "#performing predictions on the test dataset\n",
        "pred = clf.predict(X_test)\n",
        "\n",
        "# print (clf.score(normed_train_data, y_train))\n",
        "# print(clf.score(X_test, y_test))\n",
        "\n",
        "#metrics are used to find accuracy or error\n",
        "from sklearn import metrics\n",
        "print()\n",
        "\n",
        "# using metrics module for accuracy calculation \n",
        "print(\"ACCURACY OF THE MODEL: \", metrics.accuracy_score(y_test, pred))"
      ],
      "metadata": {
        "colab": {
          "base_uri": "https://localhost:8080/"
        },
        "id": "PvUAc1y3MuIH",
        "outputId": "855f3816-7973-4d8e-d78e-597add896635"
      },
      "execution_count": null,
      "outputs": [
        {
          "output_type": "stream",
          "name": "stderr",
          "text": [
            "<ipython-input-14-eb2607866bc0>:7: DataConversionWarning: A column-vector y was passed when a 1d array was expected. Please change the shape of y to (n_samples,), for example using ravel().\n",
            "  clf.fit(X_train, y_train)\n"
          ]
        },
        {
          "output_type": "stream",
          "name": "stdout",
          "text": [
            "\n",
            "ACCURACY OF THE MODEL:  0.7185201211596711\n"
          ]
        }
      ]
    },
    {
      "cell_type": "code",
      "source": [
        "from sklearn.metrics import classification_report, accuracy_score\n",
        "print(\"=== Classification Report ===\")\n",
        "print(classification_report(y_test, pred))\n",
        "print('\\n')\n",
        "print(\"=== Accuracy Score ===\")\n",
        "print(accuracy_score(y_test, pred))"
      ],
      "metadata": {
        "colab": {
          "base_uri": "https://localhost:8080/"
        },
        "id": "ZeA7lIkeNIw2",
        "outputId": "1ff009bf-e30b-4363-f65f-ff91b18f2027"
      },
      "execution_count": null,
      "outputs": [
        {
          "output_type": "stream",
          "name": "stdout",
          "text": [
            "=== Classification Report ===\n",
            "              precision    recall  f1-score   support\n",
            "\n",
            "           0       1.00      0.02      0.04       383\n",
            "           1       0.62      0.93      0.74      1675\n",
            "           2       0.79      0.76      0.77      1296\n",
            "           3       0.90      0.61      0.73      1268\n",
            "\n",
            "    accuracy                           0.72      4622\n",
            "   macro avg       0.83      0.58      0.57      4622\n",
            "weighted avg       0.78      0.72      0.69      4622\n",
            "\n",
            "\n",
            "\n",
            "=== Accuracy Score ===\n",
            "0.7185201211596711\n"
          ]
        }
      ]
    },
    {
      "cell_type": "code",
      "source": [
        "from pathlib import Path\n",
        "from sklearn.metrics import ConfusionMatrixDisplay, confusion_matrix\n",
        "import matplotlib.pyplot as plt\n",
        "\n",
        "\n",
        "def plot_cm(y_true, y_pred, normalize,\n",
        "    labels=None,\n",
        "    save=False,\n",
        "    directory=None,\n",
        "    filename=None,\n",
        "    title=\"\",\n",
        "    cmap=plt.cm.Blues,\n",
        "):\n",
        "    cm = confusion_matrix(y_true, y_pred, normalize=normalize)\n",
        "    disp = ConfusionMatrixDisplay(confusion_matrix=cm, display_labels=labels)\n",
        "    disp.plot(cmap=cmap)\n",
        "    plt.title(title)\n",
        "    plt.show()"
      ],
      "metadata": {
        "id": "rmaOe5Kv4UyB"
      },
      "execution_count": null,
      "outputs": []
    },
    {
      "cell_type": "code",
      "source": [
        "plot_cm(y_test, pred, 'true')"
      ],
      "metadata": {
        "colab": {
          "base_uri": "https://localhost:8080/",
          "height": 279
        },
        "id": "cPNJE92-4XmG",
        "outputId": "26978e8a-206f-4e45-f45f-50ae4d350e57"
      },
      "execution_count": null,
      "outputs": [
        {
          "output_type": "display_data",
          "data": {
            "text/plain": [
              "<Figure size 432x288 with 2 Axes>"
            ],
            "image/png": "[encoded data removed]"
          },
          "metadata": {
            "needs_background": "light"
          }
        }
      ]
    },
    {
      "cell_type": "code",
      "source": [],
      "metadata": {
        "id": "MvJwyPqs4aNt"
      },
      "execution_count": null,
      "outputs": []
    }
  ]
}