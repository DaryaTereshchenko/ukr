{
  "nbformat": 4,
  "nbformat_minor": 0,
  "metadata": {
    "colab": {
      "provenance": [],
      "authorship_tag": "ABX9TyOCc6mqQ6Bbs/A5Er0h5q6l",
      "include_colab_link": true
    },
    "kernelspec": {
      "name": "python3",
      "display_name": "Python 3"
    },
    "language_info": {
      "name": "python"
    }
  },
  "cells": [
    {
      "cell_type": "markdown",
      "metadata": {
        "id": "view-in-github",
        "colab_type": "text"
      },
      "source": [
        "<a href=\"https://colab.research.google.com/github/DaryaTereshchenko/ukr/blob/main/SM_RF.ipynb\" target=\"_parent\"><img src=\"https://colab.research.google.com/assets/colab-badge.svg\" alt=\"Open In Colab\"/></a>"
      ]
    },
    {
      "cell_type": "code",
      "execution_count": null,
      "metadata": {
        "id": "OyFq7AolQlKF"
      },
      "outputs": [],
      "source": [
        "import numpy as np \n",
        "import pandas as pd \n",
        "import matplotlib.pyplot as plt\n",
        "from sklearn.metrics import ConfusionMatrixDisplay, confusion_matrix"
      ]
    },
    {
      "cell_type": "code",
      "source": [
        "news_0 = pd.read_csv(\"https://github.com/DaryaTereshchenko/ukr/blob/main/data/news_0.csv\",  sep=\";\", decimal=\",\", \n",
        "                   skiprows=[1,2,3,4], low_memory=False, on_bad_lines='skip').sort_values(by=[\"CODE\"])\n",
        "news_0['class'] = 0\n",
        "\n",
        "news_1 = pd.read_csv(\"https://github.com/DaryaTereshchenko/ukr/blob/main/data/news_1.csv\",  sep=\";\", decimal=\",\", \n",
        "                   skiprows=[1,2,3,4], low_memory=False, on_bad_lines='skip').sort_values(by=[\"CODE\"])\n",
        "news_1['class'] = 1\n",
        "\n",
        "news_2 = pd.read_csv(https://github.com/DaryaTereshchenko/ukr/blob/main/data/news_2.csv,  sep=\";\", decimal=\",\", \n",
        "                   skiprows=[1,2,3,4], low_memory=False, on_bad_lines='skip').sort_values(by=[\"CODE\"])\n",
        "news_2['class'] = 2\n",
        "\n",
        "news_3 = pd.read_csv(\"https://github.com/DaryaTereshchenko/ukr/blob/main/data/news_3.csv\",  sep=\";\", decimal=\",\", \n",
        "                   skiprows=[1,2,3,4], low_memory=False, on_bad_lines='skip').sort_values(by=[\"CODE\"])\n",
        "news_3['class'] = 3"
      ],
      "metadata": {
        "id": "ujuXFHEIQtSW"
      },
      "execution_count": null,
      "outputs": []
    },
    {
      "cell_type": "code",
      "source": [
        "frames = [news_0, news_1, news_2, news_3]\n",
        "data = pd.concat(frames).drop([\"CODE\"], axis=1)\n",
        "display(data)"
      ],
      "metadata": {
        "id": "VZv0k-nHRBjS"
      },
      "execution_count": null,
      "outputs": []
    },
    {
      "cell_type": "code",
      "source": [
        "X = data.drop([\"class\"], axis=1)\n",
        "y = data['class']"
      ],
      "metadata": {
        "id": "a1PKaNAARHDl"
      },
      "execution_count": null,
      "outputs": []
    },
    {
      "cell_type": "code",
      "source": [
        "from sklearn.model_selection import train_test_split\n",
        "\n",
        "X_train, X_test, y_train, y_test = train_test_split(X, y, test_size=0.2, random_state=66)\n",
        "from sklearn.preprocessing import StandardScaler\n",
        "# Normalize the data\n",
        "sc = StandardScaler()\n",
        "normed_train_data = pd.DataFrame(sc.fit_transform(X_train), columns = X.columns)\n",
        "normed_test_data = pd.DataFrame(sc.fit_transform(X_test), columns = X.columns)\n",
        "from sklearn.ensemble import RandomForestClassifier\n",
        "# creating a RF classifier \n",
        "clf = RandomForestClassifier(n_estimators = 100, n_jobs=-1, random_state=66)\n",
        "\n",
        "# Training the model on the training dataset\n",
        "# fir function is used to train the model using the training sets as parameters\n",
        "clf.fit(normed_train_data, y_train)\n",
        "\n",
        "#performing predictions on the test dataset\n",
        "y_pred = clf.predict(normed_test_data)\n",
        "\n",
        "# print (clf.score(normed_train_data, y_train))\n",
        "print(clf.score(normed_test_data, y_test))\n",
        "\n",
        "#metrics are used to find accuracy or error\n",
        "from sklearn import metrics\n",
        "print()"
      ],
      "metadata": {
        "id": "34dbZe96RHTF"
      },
      "execution_count": null,
      "outputs": []
    },
    {
      "cell_type": "code",
      "source": [
        "# using metrics module for accuracy calculation \n",
        "print(\"ACCURACY OF THE MODEL: \", metrics.accuracy_score(y_test, y_pred))\n",
        "from sklearn.metrics import classification_report, confusion_matrix\n",
        "print(\"=== Classification Report ===\")\n",
        "print(classification_report(y_test, y_pred))\n",
        "print('\\n')"
      ],
      "metadata": {
        "id": "Tmjq9TNzRHVd"
      },
      "execution_count": null,
      "outputs": []
    },
    {
      "cell_type": "code",
      "source": [
        "def plot_cm(y_true, y_pred, normalize,\n",
        "    labels=None,\n",
        "    title=\"\",\n",
        "    cmap=plt.cm.Blues,\n",
        "):\n",
        "    cm = confusion_matrix(y_true, y_pred, normalize=normalize)\n",
        "    disp = ConfusionMatrixDisplay(confusion_matrix=cm, display_labels=labels)\n",
        "    disp.plot(cmap=cmap)\n",
        "    plt.title(title)\n",
        "    plt.show()\n",
        "plot_cm(y_test, y_pred, \"true\")"
      ],
      "metadata": {
        "id": "XnI3gO1GRHXn"
      },
      "execution_count": null,
      "outputs": []
    },
    {
      "cell_type": "markdown",
      "source": [
        "# Feature Importance"
      ],
      "metadata": {
        "id": "hmqssTDURgNN"
      }
    },
    {
      "cell_type": "code",
      "source": [
        "data.columns[:-1]\n",
        "importances = clf.feature_importances_\n",
        "\n",
        "sorted_indices = np.argsort(importances)[::-1]\n",
        "\n",
        "feature_names = data.columns[:-1]\n",
        "for f in range(X_train.shape[1]):\n",
        "    print(\"%2d) %-*s %f\" % (f + 1, 30,\n",
        "                            feature_names[sorted_indices[f]],\n",
        "                            importances[sorted_indices[f]]))"
      ],
      "metadata": {
        "id": "oZ7j48_vRHZ0"
      },
      "execution_count": null,
      "outputs": []
    },
    {
      "cell_type": "code",
      "source": [],
      "metadata": {
        "id": "mnpIhcP7RHcM"
      },
      "execution_count": null,
      "outputs": []
    },
    {
      "cell_type": "code",
      "source": [],
      "metadata": {
        "id": "cKZwb_cCRHej"
      },
      "execution_count": null,
      "outputs": []
    }
  ]
}