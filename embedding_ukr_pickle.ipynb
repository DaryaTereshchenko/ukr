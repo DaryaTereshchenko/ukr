{
  "cells": [
    {
      "cell_type": "markdown",
      "metadata": {
        "id": "view-in-github",
        "colab_type": "text"
      },
      "source": [
        "<a href=\"https://colab.research.google.com/github/DaryaTereshchenko/ukr/blob/main/embedding_ukr_pickle.ipynb\" target=\"_parent\"><img src=\"https://colab.research.google.com/assets/colab-badge.svg\" alt=\"Open In Colab\"/></a>"
      ]
    },
    {
      "cell_type": "code",
      "execution_count": null,
      "metadata": {
        "id": "yd7bPqxcOeV5",
        "colab": {
          "base_uri": "https://localhost:8080/"
        },
        "outputId": "689a2a09-c9c4-4d2f-8dc9-88844eeff838"
      },
      "outputs": [
        {
          "output_type": "stream",
          "name": "stdout",
          "text": [
            "Looking in indexes: https://pypi.org/simple, https://us-python.pkg.dev/colab-wheels/public/simple/\n",
            "Collecting tokenize_uk\n",
            "  Downloading tokenize_uk-0.2.0.tar.gz (22 kB)\n",
            "  Preparing metadata (setup.py) ... \u001b[?25l\u001b[?25hdone\n",
            "Requirement already satisfied: six in /usr/local/lib/python3.8/dist-packages (from tokenize_uk) (1.15.0)\n",
            "Building wheels for collected packages: tokenize_uk\n",
            "  Building wheel for tokenize_uk (setup.py) ... \u001b[?25l\u001b[?25hdone\n",
            "  Created wheel for tokenize_uk: filename=tokenize_uk-0.2.0-py2.py3-none-any.whl size=4589 sha256=4f10481a6c825c580d5e9e8a73212b4ba4c4077f69391bc9e9b661108fd25ea3\n",
            "  Stored in directory: /root/.cache/pip/wheels/40/76/70/7307eebd4479b6d3d3eba430016755ccf53334beaa6b86b470\n",
            "Successfully built tokenize_uk\n",
            "Installing collected packages: tokenize_uk\n",
            "Successfully installed tokenize_uk-0.2.0\n"
          ]
        }
      ],
      "source": [
        "!pip install tokenize_uk"
      ]
    },
    {
      "cell_type": "code",
      "execution_count": null,
      "metadata": {
        "id": "ZhLC40e0NZOp"
      },
      "outputs": [],
      "source": [
        "import bz2\n",
        "import pandas as pd\n",
        "import numpy as np\n",
        "import unicodedata\n",
        "import tokenize_uk\n",
        "from pathlib import Path\n",
        "import string\n",
        "from tqdm import tqdm\n",
        "import re\n",
        "from sklearn.preprocessing import StandardScaler, OneHotEncoder"
      ]
    },
    {
      "cell_type": "code",
      "source": [
        "from keras.utils import to_categorical\n",
        "import tensorflow as tf\n",
        "from keras.models import Model\n",
        "from keras.layers import Dense, Flatten, Input, Dropout, Embedding, BatchNormalization"
      ],
      "metadata": {
        "id": "JdAFt_I81euC"
      },
      "execution_count": null,
      "outputs": []
    },
    {
      "cell_type": "code",
      "execution_count": null,
      "metadata": {
        "id": "9mNnM_XqPfvW",
        "colab": {
          "base_uri": "https://localhost:8080/"
        },
        "outputId": "c4347573-f509-433e-abf1-a2a9969cd650"
      },
      "outputs": [
        {
          "output_type": "stream",
          "name": "stdout",
          "text": [
            "--2023-02-14 15:41:23--  https://lang.org.ua/static/downloads/models/news.cased.tokenized.glove.300d.bz2\n",
            "Resolving lang.org.ua (lang.org.ua)... 95.216.74.77\n",
            "Connecting to lang.org.ua (lang.org.ua)|95.216.74.77|:443... connected.\n",
            "HTTP request sent, awaiting response... 200 OK\n",
            "Length: 338940856 (323M) [application/octet-stream]\n",
            "Saving to: ‘news.cased.tokenized.glove.300d.bz2’\n",
            "\n",
            "news.cased.tokenize 100%[===================>] 323.24M  23.6MB/s    in 16s     \n",
            "\n",
            "2023-02-14 15:41:40 (20.6 MB/s) - ‘news.cased.tokenized.glove.300d.bz2’ saved [338940856/338940856]\n",
            "\n"
          ]
        }
      ],
      "source": [
        "!wget https://lang.org.ua/static/downloads/models/news.cased.tokenized.glove.300d.bz2"
      ]
    },
    {
      "cell_type": "code",
      "execution_count": null,
      "metadata": {
        "id": "YBAKPrRJVeDC",
        "colab": {
          "base_uri": "https://localhost:8080/"
        },
        "outputId": "35a507ed-588d-4a08-fc5c-763d386cca42"
      },
      "outputs": [
        {
          "output_type": "stream",
          "name": "stdout",
          "text": [
            "Archive:  /content/drive/MyDrive/train_large.zip\n",
            "  inflating: train_large.csv         \n"
          ]
        }
      ],
      "source": [
        "!unzip /content/drive/MyDrive/train_large.zip"
      ]
    },
    {
      "cell_type": "code",
      "execution_count": null,
      "metadata": {
        "id": "J4cHRuraXKrI"
      },
      "outputs": [],
      "source": [
        "glove = bz2.BZ2File(\"news.cased.tokenized.glove.300d.bz2\", \"r\")"
      ]
    },
    {
      "cell_type": "code",
      "execution_count": null,
      "metadata": {
        "id": "DkYxKlBmQfiV"
      },
      "outputs": [],
      "source": [
        "data = pd.read_csv(\"train_large.csv\", low_memory=False, on_bad_lines='skip').sort_values(by=[\"source\"])"
      ]
    },
    {
      "cell_type": "code",
      "execution_count": null,
      "metadata": {
        "id": "4X-_lcYhQ7Ex"
      },
      "outputs": [],
      "source": [
        "subset = data[data[\"source\"].isin([0,1,2,3])]"
      ]
    },
    {
      "cell_type": "code",
      "execution_count": null,
      "metadata": {
        "id": "rkxDr7qrQ7Na"
      },
      "outputs": [],
      "source": [
        "X = subset[\"text\"]\n",
        "y = subset[\"source\"].values.reshape(-1,1)"
      ]
    },
    {
      "cell_type": "code",
      "execution_count": null,
      "metadata": {
        "id": "RdtKz4GmRHvY"
      },
      "outputs": [],
      "source": [
        "def clean_text(line):\n",
        "    replaced = re.sub('\\n', '', line)\n",
        "    right_quote = unicodedata.lookup('RIGHT DOUBLE QUOTATION MARK')\n",
        "    left_quote = unicodedata.lookup('LEFT DOUBLE QUOTATION MARK')\n",
        "    normalized = replaced.replace(right_quote, '\\\"').replace(left_quote, '\\\"')\n",
        "    tokenized = ' '.join(tokenize_uk.tokenize_uk.tokenize_words(normalized))\n",
        "    return tokenized"
      ]
    },
    {
      "cell_type": "code",
      "execution_count": null,
      "metadata": {
        "id": "Fs-MA8OORCfA"
      },
      "outputs": [],
      "source": [
        "embedding_dict = {}\n",
        "\n",
        "for line in glove:\n",
        "    values = line.split()\n",
        "    word = values[0]\n",
        "    word = word.decode('utf-8')\n",
        "    vectors = np.asarray(values[1:], \"float32\")\n",
        "    embedding_dict[word] = vectors\n"
      ]
    },
    {
      "cell_type": "code",
      "execution_count": null,
      "metadata": {
        "id": "xYQS39KdXV5e"
      },
      "outputs": [],
      "source": [
        "MAX_WORS = 150"
      ]
    },
    {
      "cell_type": "code",
      "execution_count": null,
      "metadata": {
        "id": "y2r3OdW7XjXf"
      },
      "outputs": [],
      "source": [
        "sentences = X.map(lambda x: clean_text(x))\n",
        "sentences = X.map(lambda x: x.translate(str.maketrans('', '', string.punctuation)))"
      ]
    },
    {
      "cell_type": "code",
      "source": [
        "sentences"
      ],
      "metadata": {
        "colab": {
          "base_uri": "https://localhost:8080/"
        },
        "id": "65JVvTrbN2VV",
        "outputId": "106a0cf1-fa2c-4485-838a-428822463348"
      },
      "execution_count": null,
      "outputs": [
        {
          "output_type": "execute_result",
          "data": {
            "text/plain": [
              "7744     Все почалося з того що капітан Мур вирішив зіб...\n",
              "19989    Тетяна і її син Темур\\r\\nНайдорожче розлучення...\n",
              "45998    Конституційний Суд України позбавив Національн...\n",
              "39936    Карантин локдаун став словом 2020 року Його ст...\n",
              "26770    Ювілей станції Вернадський Українські вчені ві...\n",
              "                               ...                        \n",
              "43321    Протягом 1418 вересня Нацбанк продав на міжбан...\n",
              "48603    У Кабміні вважають що після падіння обсягів ім...\n",
              "43614    Сервіс доставки їжі UberEats 3 червня припиняє...\n",
              "48605    Ринкова вартість криптовалюти Bitcoin сягнула ...\n",
              "2686     Великі торговельні центри в столиці треба відк...\n",
              "Name: text, Length: 25677, dtype: object"
            ]
          },
          "metadata": {},
          "execution_count": 17
        }
      ]
    },
    {
      "cell_type": "code",
      "execution_count": null,
      "metadata": {
        "id": "f9V71Kj4RLMa"
      },
      "outputs": [],
      "source": [
        "def transform(sent):\n",
        "  s = []\n",
        "  for word in sent.split():\n",
        "    if embedding_dict.get(word) is not None:\n",
        "      s.append(embedding_dict.get(word))\n",
        "      if len(s) == MAX_WORS:\n",
        "        return np.stack(s, axis=0)\n",
        "  if len(s) < MAX_WORS:\n",
        "    zeros = np.zeros((MAX_WORS - len(s), 300))\n",
        "    new_matrix = np.concatenate((zeros, s), axis=0)\n",
        "    return new_matrix\n"
      ]
    },
    {
      "cell_type": "code",
      "execution_count": null,
      "metadata": {
        "colab": {
          "base_uri": "https://localhost:8080/"
        },
        "id": "_prqfTkJRt1n",
        "outputId": "4eb88ee0-900e-404f-8aa0-dfab4afa2349"
      },
      "outputs": [
        {
          "output_type": "stream",
          "name": "stderr",
          "text": [
            "100%|██████████| 25677/25677 [00:09<00:00, 2699.78it/s]\n"
          ]
        }
      ],
      "source": [
        "embeddig_matrix = []\n",
        "for i in tqdm(sentences):\n",
        "  embedding = transform(i)\n",
        "  embeddig_matrix.append(embedding)"
      ]
    },
    {
      "cell_type": "code",
      "execution_count": null,
      "metadata": {
        "id": "HVaVl-V3Xv3o"
      },
      "outputs": [],
      "source": [
        "embeddig_matrix = np.stack(embeddig_matrix, axis=0)\n",
        "embeddigs = embeddig_matrix.reshape(embeddig_matrix.shape[0], -1)\n",
        "embeddigs = pd.DataFrame(embeddigs)\n",
        "embeddigs[\"source\"] = y"
      ]
    },
    {
      "cell_type": "code",
      "source": [
        "embeddigs"
      ],
      "metadata": {
        "colab": {
          "base_uri": "https://localhost:8080/",
          "height": 487
        },
        "id": "EVZsBN_aGC1U",
        "outputId": "c978f50f-fe8c-460b-d748-7ed97ba5d387"
      },
      "execution_count": null,
      "outputs": [
        {
          "output_type": "execute_result",
          "data": {
            "text/plain": [
              "              0         1         2         3         4         5         6  \\\n",
              "0      0.289065 -0.302258 -0.067125 -0.142829 -0.571341 -0.247752 -0.647140   \n",
              "1      0.107319 -0.163065 -0.572483 -0.187558  0.308994  0.008620 -0.755999   \n",
              "2      0.000000  0.000000  0.000000  0.000000  0.000000  0.000000  0.000000   \n",
              "3      0.639948  0.139452 -0.255787  0.325295 -0.217746  0.383579  0.142693   \n",
              "4     -0.179089 -0.271164 -0.179615 -0.101294 -0.351352 -0.237466 -0.519836   \n",
              "...         ...       ...       ...       ...       ...       ...       ...   \n",
              "25672  0.000000  0.000000  0.000000  0.000000  0.000000  0.000000  0.000000   \n",
              "25673 -0.011475 -0.362595  0.400265 -0.096101  0.508484  0.030144 -0.127819   \n",
              "25674 -0.083649 -0.256452 -0.117438  0.246674 -1.133102 -0.857174 -0.106594   \n",
              "25675  0.000000  0.000000  0.000000  0.000000  0.000000  0.000000  0.000000   \n",
              "25676  0.000000  0.000000  0.000000  0.000000  0.000000  0.000000  0.000000   \n",
              "\n",
              "              7         8         9  ...     44991     44992     44993  \\\n",
              "0     -0.315832 -0.309583  0.056869  ... -0.062587  0.220745  0.188114   \n",
              "1      0.303792 -0.714780  0.386464  ...  0.182555  0.053285  0.197741   \n",
              "2      0.000000  0.000000  0.000000  ... -0.293032  0.042476  0.620857   \n",
              "3     -0.187305  0.103691  0.258715  ... -0.453204  0.287243 -0.354645   \n",
              "4      0.181826 -0.415627 -0.777196  ...  0.081289 -0.448468 -0.023365   \n",
              "...         ...       ...       ...  ...       ...       ...       ...   \n",
              "25672  0.000000  0.000000  0.000000  ... -0.133993  0.431885 -0.373035   \n",
              "25673 -0.825140  0.263326  0.011580  ... -0.009434  0.190915 -0.211210   \n",
              "25674  0.375665  0.361931  0.167915  ... -0.019849  0.060704 -0.539611   \n",
              "25675  0.000000  0.000000  0.000000  ... -0.178413  0.102045  0.460402   \n",
              "25676  0.000000  0.000000  0.000000  ... -0.153855 -0.212703  0.066017   \n",
              "\n",
              "          44994     44995     44996     44997     44998     44999  source  \n",
              "0     -0.219599  0.187794 -0.533731  0.141170 -0.203350  0.103120       2  \n",
              "1     -0.467305  0.795056 -0.307584  0.037243  0.173997 -0.184379       3  \n",
              "2     -0.338957  0.628428 -0.500935 -0.217840  0.239745 -0.007407       3  \n",
              "3      0.239500 -0.215203 -0.056409  0.205022  0.159679 -0.440074       2  \n",
              "4     -0.410670 -0.664822 -0.677202  0.071613  0.081858 -0.489330       3  \n",
              "...         ...       ...       ...       ...       ...       ...     ...  \n",
              "25672 -0.187254 -0.400546  0.641448  0.211965 -0.133053  0.394565       1  \n",
              "25673  0.443357 -0.651554 -0.401812 -0.788020 -0.321245 -0.436221       2  \n",
              "25674 -0.321925 -0.482078  0.295565 -0.239073  0.281052 -0.128144       3  \n",
              "25675  0.688739  0.330359 -0.024408 -0.240008  0.013830 -0.491883       2  \n",
              "25676  0.031176 -0.014382  0.051882  0.020979  0.220616  0.344161       0  \n",
              "\n",
              "[25677 rows x 45001 columns]"
            ],
            "text/html": [
              "\n",
              "  <div id=\"df-bf9615bd-223e-4cfd-b68a-de7764ca5390\">\n",
              "    <div class=\"colab-df-container\">\n",
              "      <div>\n",
              "<style scoped>\n",
              "    .dataframe tbody tr th:only-of-type {\n",
              "        vertical-align: middle;\n",
              "    }\n",
              "\n",
              "    .dataframe tbody tr th {\n",
              "        vertical-align: top;\n",
              "    }\n",
              "\n",
              "    .dataframe thead th {\n",
              "        text-align: right;\n",
              "    }\n",
              "</style>\n",
              "<table border=\"1\" class=\"dataframe\">\n",
              "  <thead>\n",
              "    <tr style=\"text-align: right;\">\n",
              "      <th></th>\n",
              "      <th>0</th>\n",
              "      <th>1</th>\n",
              "      <th>2</th>\n",
              "      <th>3</th>\n",
              "      <th>4</th>\n",
              "      <th>5</th>\n",
              "      <th>6</th>\n",
              "      <th>7</th>\n",
              "      <th>8</th>\n",
              "      <th>9</th>\n",
              "      <th>...</th>\n",
              "      <th>44991</th>\n",
              "      <th>44992</th>\n",
              "      <th>44993</th>\n",
              "      <th>44994</th>\n",
              "      <th>44995</th>\n",
              "      <th>44996</th>\n",
              "      <th>44997</th>\n",
              "      <th>44998</th>\n",
              "      <th>44999</th>\n",
              "      <th>source</th>\n",
              "    </tr>\n",
              "  </thead>\n",
              "  <tbody>\n",
              "    <tr>\n",
              "      <th>0</th>\n",
              "      <td>0.289065</td>\n",
              "      <td>-0.302258</td>\n",
              "      <td>-0.067125</td>\n",
              "      <td>-0.142829</td>\n",
              "      <td>-0.571341</td>\n",
              "      <td>-0.247752</td>\n",
              "      <td>-0.647140</td>\n",
              "      <td>-0.315832</td>\n",
              "      <td>-0.309583</td>\n",
              "      <td>0.056869</td>\n",
              "      <td>...</td>\n",
              "      <td>-0.062587</td>\n",
              "      <td>0.220745</td>\n",
              "      <td>0.188114</td>\n",
              "      <td>-0.219599</td>\n",
              "      <td>0.187794</td>\n",
              "      <td>-0.533731</td>\n",
              "      <td>0.141170</td>\n",
              "      <td>-0.203350</td>\n",
              "      <td>0.103120</td>\n",
              "      <td>2</td>\n",
              "    </tr>\n",
              "    <tr>\n",
              "      <th>1</th>\n",
              "      <td>0.107319</td>\n",
              "      <td>-0.163065</td>\n",
              "      <td>-0.572483</td>\n",
              "      <td>-0.187558</td>\n",
              "      <td>0.308994</td>\n",
              "      <td>0.008620</td>\n",
              "      <td>-0.755999</td>\n",
              "      <td>0.303792</td>\n",
              "      <td>-0.714780</td>\n",
              "      <td>0.386464</td>\n",
              "      <td>...</td>\n",
              "      <td>0.182555</td>\n",
              "      <td>0.053285</td>\n",
              "      <td>0.197741</td>\n",
              "      <td>-0.467305</td>\n",
              "      <td>0.795056</td>\n",
              "      <td>-0.307584</td>\n",
              "      <td>0.037243</td>\n",
              "      <td>0.173997</td>\n",
              "      <td>-0.184379</td>\n",
              "      <td>3</td>\n",
              "    </tr>\n",
              "    <tr>\n",
              "      <th>2</th>\n",
              "      <td>0.000000</td>\n",
              "      <td>0.000000</td>\n",
              "      <td>0.000000</td>\n",
              "      <td>0.000000</td>\n",
              "      <td>0.000000</td>\n",
              "      <td>0.000000</td>\n",
              "      <td>0.000000</td>\n",
              "      <td>0.000000</td>\n",
              "      <td>0.000000</td>\n",
              "      <td>0.000000</td>\n",
              "      <td>...</td>\n",
              "      <td>-0.293032</td>\n",
              "      <td>0.042476</td>\n",
              "      <td>0.620857</td>\n",
              "      <td>-0.338957</td>\n",
              "      <td>0.628428</td>\n",
              "      <td>-0.500935</td>\n",
              "      <td>-0.217840</td>\n",
              "      <td>0.239745</td>\n",
              "      <td>-0.007407</td>\n",
              "      <td>3</td>\n",
              "    </tr>\n",
              "    <tr>\n",
              "      <th>3</th>\n",
              "      <td>0.639948</td>\n",
              "      <td>0.139452</td>\n",
              "      <td>-0.255787</td>\n",
              "      <td>0.325295</td>\n",
              "      <td>-0.217746</td>\n",
              "      <td>0.383579</td>\n",
              "      <td>0.142693</td>\n",
              "      <td>-0.187305</td>\n",
              "      <td>0.103691</td>\n",
              "      <td>0.258715</td>\n",
              "      <td>...</td>\n",
              "      <td>-0.453204</td>\n",
              "      <td>0.287243</td>\n",
              "      <td>-0.354645</td>\n",
              "      <td>0.239500</td>\n",
              "      <td>-0.215203</td>\n",
              "      <td>-0.056409</td>\n",
              "      <td>0.205022</td>\n",
              "      <td>0.159679</td>\n",
              "      <td>-0.440074</td>\n",
              "      <td>2</td>\n",
              "    </tr>\n",
              "    <tr>\n",
              "      <th>4</th>\n",
              "      <td>-0.179089</td>\n",
              "      <td>-0.271164</td>\n",
              "      <td>-0.179615</td>\n",
              "      <td>-0.101294</td>\n",
              "      <td>-0.351352</td>\n",
              "      <td>-0.237466</td>\n",
              "      <td>-0.519836</td>\n",
              "      <td>0.181826</td>\n",
              "      <td>-0.415627</td>\n",
              "      <td>-0.777196</td>\n",
              "      <td>...</td>\n",
              "      <td>0.081289</td>\n",
              "      <td>-0.448468</td>\n",
              "      <td>-0.023365</td>\n",
              "      <td>-0.410670</td>\n",
              "      <td>-0.664822</td>\n",
              "      <td>-0.677202</td>\n",
              "      <td>0.071613</td>\n",
              "      <td>0.081858</td>\n",
              "      <td>-0.489330</td>\n",
              "      <td>3</td>\n",
              "    </tr>\n",
              "    <tr>\n",
              "      <th>...</th>\n",
              "      <td>...</td>\n",
              "      <td>...</td>\n",
              "      <td>...</td>\n",
              "      <td>...</td>\n",
              "      <td>...</td>\n",
              "      <td>...</td>\n",
              "      <td>...</td>\n",
              "      <td>...</td>\n",
              "      <td>...</td>\n",
              "      <td>...</td>\n",
              "      <td>...</td>\n",
              "      <td>...</td>\n",
              "      <td>...</td>\n",
              "      <td>...</td>\n",
              "      <td>...</td>\n",
              "      <td>...</td>\n",
              "      <td>...</td>\n",
              "      <td>...</td>\n",
              "      <td>...</td>\n",
              "      <td>...</td>\n",
              "      <td>...</td>\n",
              "    </tr>\n",
              "    <tr>\n",
              "      <th>25672</th>\n",
              "      <td>0.000000</td>\n",
              "      <td>0.000000</td>\n",
              "      <td>0.000000</td>\n",
              "      <td>0.000000</td>\n",
              "      <td>0.000000</td>\n",
              "      <td>0.000000</td>\n",
              "      <td>0.000000</td>\n",
              "      <td>0.000000</td>\n",
              "      <td>0.000000</td>\n",
              "      <td>0.000000</td>\n",
              "      <td>...</td>\n",
              "      <td>-0.133993</td>\n",
              "      <td>0.431885</td>\n",
              "      <td>-0.373035</td>\n",
              "      <td>-0.187254</td>\n",
              "      <td>-0.400546</td>\n",
              "      <td>0.641448</td>\n",
              "      <td>0.211965</td>\n",
              "      <td>-0.133053</td>\n",
              "      <td>0.394565</td>\n",
              "      <td>1</td>\n",
              "    </tr>\n",
              "    <tr>\n",
              "      <th>25673</th>\n",
              "      <td>-0.011475</td>\n",
              "      <td>-0.362595</td>\n",
              "      <td>0.400265</td>\n",
              "      <td>-0.096101</td>\n",
              "      <td>0.508484</td>\n",
              "      <td>0.030144</td>\n",
              "      <td>-0.127819</td>\n",
              "      <td>-0.825140</td>\n",
              "      <td>0.263326</td>\n",
              "      <td>0.011580</td>\n",
              "      <td>...</td>\n",
              "      <td>-0.009434</td>\n",
              "      <td>0.190915</td>\n",
              "      <td>-0.211210</td>\n",
              "      <td>0.443357</td>\n",
              "      <td>-0.651554</td>\n",
              "      <td>-0.401812</td>\n",
              "      <td>-0.788020</td>\n",
              "      <td>-0.321245</td>\n",
              "      <td>-0.436221</td>\n",
              "      <td>2</td>\n",
              "    </tr>\n",
              "    <tr>\n",
              "      <th>25674</th>\n",
              "      <td>-0.083649</td>\n",
              "      <td>-0.256452</td>\n",
              "      <td>-0.117438</td>\n",
              "      <td>0.246674</td>\n",
              "      <td>-1.133102</td>\n",
              "      <td>-0.857174</td>\n",
              "      <td>-0.106594</td>\n",
              "      <td>0.375665</td>\n",
              "      <td>0.361931</td>\n",
              "      <td>0.167915</td>\n",
              "      <td>...</td>\n",
              "      <td>-0.019849</td>\n",
              "      <td>0.060704</td>\n",
              "      <td>-0.539611</td>\n",
              "      <td>-0.321925</td>\n",
              "      <td>-0.482078</td>\n",
              "      <td>0.295565</td>\n",
              "      <td>-0.239073</td>\n",
              "      <td>0.281052</td>\n",
              "      <td>-0.128144</td>\n",
              "      <td>3</td>\n",
              "    </tr>\n",
              "    <tr>\n",
              "      <th>25675</th>\n",
              "      <td>0.000000</td>\n",
              "      <td>0.000000</td>\n",
              "      <td>0.000000</td>\n",
              "      <td>0.000000</td>\n",
              "      <td>0.000000</td>\n",
              "      <td>0.000000</td>\n",
              "      <td>0.000000</td>\n",
              "      <td>0.000000</td>\n",
              "      <td>0.000000</td>\n",
              "      <td>0.000000</td>\n",
              "      <td>...</td>\n",
              "      <td>-0.178413</td>\n",
              "      <td>0.102045</td>\n",
              "      <td>0.460402</td>\n",
              "      <td>0.688739</td>\n",
              "      <td>0.330359</td>\n",
              "      <td>-0.024408</td>\n",
              "      <td>-0.240008</td>\n",
              "      <td>0.013830</td>\n",
              "      <td>-0.491883</td>\n",
              "      <td>2</td>\n",
              "    </tr>\n",
              "    <tr>\n",
              "      <th>25676</th>\n",
              "      <td>0.000000</td>\n",
              "      <td>0.000000</td>\n",
              "      <td>0.000000</td>\n",
              "      <td>0.000000</td>\n",
              "      <td>0.000000</td>\n",
              "      <td>0.000000</td>\n",
              "      <td>0.000000</td>\n",
              "      <td>0.000000</td>\n",
              "      <td>0.000000</td>\n",
              "      <td>0.000000</td>\n",
              "      <td>...</td>\n",
              "      <td>-0.153855</td>\n",
              "      <td>-0.212703</td>\n",
              "      <td>0.066017</td>\n",
              "      <td>0.031176</td>\n",
              "      <td>-0.014382</td>\n",
              "      <td>0.051882</td>\n",
              "      <td>0.020979</td>\n",
              "      <td>0.220616</td>\n",
              "      <td>0.344161</td>\n",
              "      <td>0</td>\n",
              "    </tr>\n",
              "  </tbody>\n",
              "</table>\n",
              "<p>25677 rows × 45001 columns</p>\n",
              "</div>\n",
              "      <button class=\"colab-df-convert\" onclick=\"convertToInteractive('df-bf9615bd-223e-4cfd-b68a-de7764ca5390')\"\n",
              "              title=\"Convert this dataframe to an interactive table.\"\n",
              "              style=\"display:none;\">\n",
              "        \n",
              "  <svg xmlns=\"http://www.w3.org/2000/svg\" height=\"24px\"viewBox=\"0 0 24 24\"\n",
              "       width=\"24px\">\n",
              "    <path d=\"M0 0h24v24H0V0z\" fill=\"none\"/>\n",
              "    <path d=\"M18.56 5.44l.94 2.06.94-2.06 2.06-.94-2.06-.94-.94-2.06-.94 2.06-2.06.94zm-11 1L8.5 8.5l.94-2.06 2.06-.94-2.06-.94L8.5 2.5l-.94 2.06-2.06.94zm10 10l.94 2.06.94-2.06 2.06-.94-2.06-.94-.94-2.06-.94 2.06-2.06.94z\"/><path d=\"M17.41 7.96l-1.37-1.37c-.4-.4-.92-.59-1.43-.59-.52 0-1.04.2-1.43.59L10.3 9.45l-7.72 7.72c-.78.78-.78 2.05 0 2.83L4 21.41c.39.39.9.59 1.41.59.51 0 1.02-.2 1.41-.59l7.78-7.78 2.81-2.81c.8-.78.8-2.07 0-2.86zM5.41 20L4 18.59l7.72-7.72 1.47 1.35L5.41 20z\"/>\n",
              "  </svg>\n",
              "      </button>\n",
              "      \n",
              "  <style>\n",
              "    .colab-df-container {\n",
              "      display:flex;\n",
              "      flex-wrap:wrap;\n",
              "      gap: 12px;\n",
              "    }\n",
              "\n",
              "    .colab-df-convert {\n",
              "      background-color: #E8F0FE;\n",
              "      border: none;\n",
              "      border-radius: 50%;\n",
              "      cursor: pointer;\n",
              "      display: none;\n",
              "      fill: #1967D2;\n",
              "      height: 32px;\n",
              "      padding: 0 0 0 0;\n",
              "      width: 32px;\n",
              "    }\n",
              "\n",
              "    .colab-df-convert:hover {\n",
              "      background-color: #E2EBFA;\n",
              "      box-shadow: 0px 1px 2px rgba(60, 64, 67, 0.3), 0px 1px 3px 1px rgba(60, 64, 67, 0.15);\n",
              "      fill: #174EA6;\n",
              "    }\n",
              "\n",
              "    [theme=dark] .colab-df-convert {\n",
              "      background-color: #3B4455;\n",
              "      fill: #D2E3FC;\n",
              "    }\n",
              "\n",
              "    [theme=dark] .colab-df-convert:hover {\n",
              "      background-color: #434B5C;\n",
              "      box-shadow: 0px 1px 3px 1px rgba(0, 0, 0, 0.15);\n",
              "      filter: drop-shadow(0px 1px 2px rgba(0, 0, 0, 0.3));\n",
              "      fill: #FFFFFF;\n",
              "    }\n",
              "  </style>\n",
              "\n",
              "      <script>\n",
              "        const buttonEl =\n",
              "          document.querySelector('#df-bf9615bd-223e-4cfd-b68a-de7764ca5390 button.colab-df-convert');\n",
              "        buttonEl.style.display =\n",
              "          google.colab.kernel.accessAllowed ? 'block' : 'none';\n",
              "\n",
              "        async function convertToInteractive(key) {\n",
              "          const element = document.querySelector('#df-bf9615bd-223e-4cfd-b68a-de7764ca5390');\n",
              "          const dataTable =\n",
              "            await google.colab.kernel.invokeFunction('convertToInteractive',\n",
              "                                                     [key], {});\n",
              "          if (!dataTable) return;\n",
              "\n",
              "          const docLinkHtml = 'Like what you see? Visit the ' +\n",
              "            '<a target=\"_blank\" href=https://colab.research.google.com/notebooks/data_table.ipynb>data table notebook</a>'\n",
              "            + ' to learn more about interactive tables.';\n",
              "          element.innerHTML = '';\n",
              "          dataTable['output_type'] = 'display_data';\n",
              "          await google.colab.output.renderOutput(dataTable, element);\n",
              "          const docLink = document.createElement('div');\n",
              "          docLink.innerHTML = docLinkHtml;\n",
              "          element.appendChild(docLink);\n",
              "        }\n",
              "      </script>\n",
              "    </div>\n",
              "  </div>\n",
              "  "
            ]
          },
          "metadata": {},
          "execution_count": 18
        }
      ]
    },
    {
      "cell_type": "code",
      "source": [
        "import pickle\n",
        "from google.colab import drive\n",
        "drive.mount(r'/content/gdrive/')\n",
        "path = \"/content/gdrive/MyDrive/\""
      ],
      "metadata": {
        "colab": {
          "base_uri": "https://localhost:8080/"
        },
        "id": "KU4hlOvG8gIF",
        "outputId": "51ef9ddc-b512-4d77-bcef-4dacb2826fae"
      },
      "execution_count": null,
      "outputs": [
        {
          "output_type": "stream",
          "name": "stdout",
          "text": [
            "Mounted at /content/gdrive/\n"
          ]
        }
      ]
    },
    {
      "cell_type": "code",
      "source": [
        "pickle_out = open(path + \"embraw.pickle\", \"wb\")\n",
        "pickle.dump(embeddigs, pickle_out)\n",
        "pickle_out.close()"
      ],
      "metadata": {
        "id": "Tc8_7fdK_dKs"
      },
      "execution_count": null,
      "outputs": []
    },
    {
      "cell_type": "code",
      "source": [],
      "metadata": {
        "id": "DMD1Te0hOYrN"
      },
      "execution_count": null,
      "outputs": []
    }
  ],
  "metadata": {
    "accelerator": "GPU",
    "colab": {
      "machine_shape": "hm",
      "provenance": [],
      "mount_file_id": "1wlRmYS8HzBjzWU2MwRFicKcnLXyUR73q",
      "authorship_tag": "ABX9TyPMGcKcPs16UNv2w4cRYEJM",
      "include_colab_link": true
    },
    "gpuClass": "premium",
    "kernelspec": {
      "display_name": "Python 3",
      "name": "python3"
    },
    "language_info": {
      "name": "python"
    }
  },
  "nbformat": 4,
  "nbformat_minor": 0
}